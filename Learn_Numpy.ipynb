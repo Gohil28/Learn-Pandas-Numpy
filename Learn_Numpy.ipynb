{
  "cells": [
    {
      "cell_type": "markdown",
      "metadata": {
        "id": "RmvK2c8osNvK"
      },
      "source": [
        "# NUMPY"
      ]
    },
    {
      "cell_type": "markdown",
      "metadata": {
        "id": "GmXXtWc2sNvN"
      },
      "source": [
        "NumPy is a Python library that is the core library for scientific computing in Python. It contains a collection of tools and techniques that can be used to solve on a computer mathematical models of problems in Science and Engineering. One of these tools is a high-performance multidimensional array object that is a powerful data structure for efficient computation of arrays and matrices. To work with these arrays, there’s a vast amount of high-level mathematical functions operate on these matric"
      ]
    },
    {
      "cell_type": "markdown",
      "metadata": {
        "id": "mxAqu4KlsNvO"
      },
      "source": [
        "#### Arrays can store data very compactly and are more efficient for storing large amounts of data. Arrays are great for numerical operations; lists cannot directly handle math operations"
      ]
    },
    {
      "cell_type": "markdown",
      "metadata": {
        "id": "r_HF-3gpsNvP"
      },
      "source": [
        "# Difference Btwn List and array"
      ]
    },
    {
      "cell_type": "markdown",
      "metadata": {
        "id": "lBJI5hFjsNvP"
      },
      "source": [
        "#### A numpy array is a grid of values, all of the same type, and is indexed by a tuple of nonnegative integers."
      ]
    },
    {
      "cell_type": "markdown",
      "metadata": {
        "id": "wINeD_I7sNvP"
      },
      "source": [
        "#### A list is the Python equivalent of an array, but is resizeable and can contain elements of different types."
      ]
    },
    {
      "cell_type": "markdown",
      "metadata": {
        "id": "WBIpsYy8sNvQ"
      },
      "source": [
        "# In List we can pass different datatypes but in array we can only give similar Datatypes"
      ]
    },
    {
      "cell_type": "markdown",
      "metadata": {
        "id": "aVAZgJNnsNvQ"
      },
      "source": [
        "# Creating Array"
      ]
    },
    {
      "cell_type": "code",
      "execution_count": 1,
      "metadata": {
        "collapsed": true,
        "id": "nDMEuJu9sNvQ"
      },
      "outputs": [],
      "source": [
        "import numpy as np"
      ]
    },
    {
      "cell_type": "code",
      "execution_count": 6,
      "metadata": {
        "colab": {
          "base_uri": "https://localhost:8080/"
        },
        "id": "pmAC9V1gsNvR",
        "outputId": "c30f5681-1a38-4bdc-91fc-22a7b277a343"
      },
      "outputs": [
        {
          "output_type": "execute_result",
          "data": {
            "text/plain": [
              "array([1, 2, 3, 6, 7, 8])"
            ]
          },
          "metadata": {},
          "execution_count": 6
        }
      ],
      "source": [
        "#with list\n",
        "# arr = np.array([1,2,4,6,8])\n",
        "\n",
        "# arr\n",
        "# arr0 = np.array([1,2,3,4,5])\n",
        "# arr0\n",
        "arr1 = np.array((1,2,3,6,7,8))\n",
        "arr1"
      ]
    },
    {
      "cell_type": "code",
      "execution_count": 7,
      "metadata": {
        "colab": {
          "base_uri": "https://localhost:8080/"
        },
        "id": "ecaQRUofsNvT",
        "outputId": "760849dc-5d79-4267-df43-730e8692075c"
      },
      "outputs": [
        {
          "output_type": "execute_result",
          "data": {
            "text/plain": [
              "numpy.ndarray"
            ]
          },
          "metadata": {},
          "execution_count": 7
        }
      ],
      "source": [
        "#check data type\n",
        "type(arr1)"
      ]
    },
    {
      "cell_type": "code",
      "execution_count": 8,
      "metadata": {
        "colab": {
          "base_uri": "https://localhost:8080/"
        },
        "id": "fVfpjQBFsNvU",
        "outputId": "ce0d0a2d-e0a1-4bbb-c214-af47d9e8d354"
      },
      "outputs": [
        {
          "output_type": "execute_result",
          "data": {
            "text/plain": [
              "array([1, 2, 3, 4, 5])"
            ]
          },
          "metadata": {},
          "execution_count": 8
        }
      ],
      "source": [
        "# with tuple\n",
        "arr = np.array((1, 2, 3, 4, 5))\n",
        "\n",
        "arr"
      ]
    },
    {
      "cell_type": "code",
      "source": [
        "a = [1,2,3,4]\n",
        "b = [5,6,7,8]\n",
        "arry_1 = np.array([a,b])\n",
        "arry_1"
      ],
      "metadata": {
        "colab": {
          "base_uri": "https://localhost:8080/"
        },
        "id": "-NVuORZdyFRB",
        "outputId": "6cfedf01-1dc5-45cc-c869-e890138cd779"
      },
      "execution_count": 9,
      "outputs": [
        {
          "output_type": "execute_result",
          "data": {
            "text/plain": [
              "array([[1, 2, 3, 4],\n",
              "       [5, 6, 7, 8]])"
            ]
          },
          "metadata": {},
          "execution_count": 9
        }
      ]
    },
    {
      "cell_type": "code",
      "source": [
        "# np.zeros((2,3) , dtype=int)\n",
        "# np.ones((2,3) , dtype=int)\n",
        "# np.empty((2,3) , dtype=int)"
      ],
      "metadata": {
        "colab": {
          "base_uri": "https://localhost:8080/"
        },
        "id": "55xnaMrzycbM",
        "outputId": "0a3df230-1d61-4182-d87a-8eb17c3690cc"
      },
      "execution_count": 12,
      "outputs": [
        {
          "output_type": "execute_result",
          "data": {
            "text/plain": [
              "array([[100765971626705,               0,     -4294967295],\n",
              "       [              0,               0,               0]])"
            ]
          },
          "metadata": {},
          "execution_count": 12
        }
      ]
    },
    {
      "cell_type": "code",
      "source": [
        "np.arange(0,20,2)"
      ],
      "metadata": {
        "colab": {
          "base_uri": "https://localhost:8080/"
        },
        "id": "jB-hBM2kzEVZ",
        "outputId": "99e740a4-dc59-4d4e-c67b-16124ceedfa6"
      },
      "execution_count": 14,
      "outputs": [
        {
          "output_type": "execute_result",
          "data": {
            "text/plain": [
              "array([ 0,  2,  4,  6,  8, 10, 12, 14, 16, 18])"
            ]
          },
          "metadata": {},
          "execution_count": 14
        }
      ]
    },
    {
      "cell_type": "code",
      "execution_count": 15,
      "metadata": {
        "colab": {
          "base_uri": "https://localhost:8080/"
        },
        "id": "TbXBfrgasNvU",
        "outputId": "e202e46f-ca12-45e4-a3a1-fb5e6ba7651d"
      },
      "outputs": [
        {
          "output_type": "execute_result",
          "data": {
            "text/plain": [
              "array([1, 2, 4, 6, 8])"
            ]
          },
          "metadata": {},
          "execution_count": 15
        }
      ],
      "source": [
        "#add list into np\n",
        "lis=[1,2,4,6,8]\n",
        "\n",
        "arr=np.array(lis)\n",
        "arr"
      ]
    },
    {
      "cell_type": "code",
      "execution_count": 16,
      "metadata": {
        "colab": {
          "base_uri": "https://localhost:8080/"
        },
        "id": "3GGKS61isNvU",
        "outputId": "08280215-678b-419e-ac39-a9c2e81b59b7"
      },
      "outputs": [
        {
          "output_type": "execute_result",
          "data": {
            "text/plain": [
              "array([1, 2, 4, 6, 8])"
            ]
          },
          "metadata": {},
          "execution_count": 16
        }
      ],
      "source": [
        "arr\n"
      ]
    },
    {
      "cell_type": "code",
      "execution_count": 17,
      "metadata": {
        "colab": {
          "base_uri": "https://localhost:8080/"
        },
        "id": "wjD_ZvM6sNvV",
        "outputId": "5d7eb0d8-cf36-4f9c-80fe-5a0e1b7bc6b9"
      },
      "outputs": [
        {
          "output_type": "execute_result",
          "data": {
            "text/plain": [
              "array([[100765966564225,               0],\n",
              "       [             56, 138465857903840]])"
            ]
          },
          "metadata": {},
          "execution_count": 17
        }
      ],
      "source": [
        "#Return a new array of given shape and type, with random values..\n",
        "\n",
        "\n",
        "a = np.empty([2,2], dtype = int)\n",
        "a"
      ]
    },
    {
      "cell_type": "code",
      "execution_count": 18,
      "metadata": {
        "colab": {
          "base_uri": "https://localhost:8080/"
        },
        "id": "doqK1iIvsNvV",
        "outputId": "46f0a59d-a89d-40e2-e751-ceb452bcf3b7"
      },
      "outputs": [
        {
          "output_type": "execute_result",
          "data": {
            "text/plain": [
              "array([0., 0., 0., 0.])"
            ]
          },
          "metadata": {},
          "execution_count": 18
        }
      ],
      "source": [
        "#The numpy.ones() function returns a new array of given shape and type, with ones.\n",
        "a = np.zeros(4)\n",
        "a"
      ]
    },
    {
      "cell_type": "code",
      "execution_count": 19,
      "metadata": {
        "colab": {
          "base_uri": "https://localhost:8080/"
        },
        "id": "eOjOMVepsNvV",
        "outputId": "f8984cd7-9f67-4823-b079-70e49205f076"
      },
      "outputs": [
        {
          "output_type": "execute_result",
          "data": {
            "text/plain": [
              "array([[0, 0],\n",
              "       [0, 0],\n",
              "       [0, 0],\n",
              "       [0, 0],\n",
              "       [0, 0]])"
            ]
          },
          "metadata": {},
          "execution_count": 19
        }
      ],
      "source": [
        "a = np.zeros((5,2), dtype = int)\n",
        "a"
      ]
    },
    {
      "cell_type": "code",
      "execution_count": 20,
      "metadata": {
        "colab": {
          "base_uri": "https://localhost:8080/"
        },
        "id": "udr6l-3HsNvW",
        "outputId": "2e21360d-eb88-4607-803f-37dd0e93e7f3"
      },
      "outputs": [
        {
          "output_type": "execute_result",
          "data": {
            "text/plain": [
              "array([1., 1., 1., 1., 1.])"
            ]
          },
          "metadata": {},
          "execution_count": 20
        }
      ],
      "source": [
        "#create array with ones\n",
        "a = np.ones(5)\n",
        "a"
      ]
    },
    {
      "cell_type": "code",
      "execution_count": null,
      "metadata": {
        "id": "pJNubXP2sNvW",
        "outputId": "7b869756-42ec-4425-8ad7-fd36f2fc276b"
      },
      "outputs": [
        {
          "data": {
            "text/plain": [
              "array([0, 1, 2, 3])"
            ]
          },
          "execution_count": 11,
          "metadata": {},
          "output_type": "execute_result"
        }
      ],
      "source": [
        "#create array with range\n",
        "a = np.arange(4)\n",
        "a"
      ]
    },
    {
      "cell_type": "markdown",
      "metadata": {
        "id": "7S0R0iK6sNvZ"
      },
      "source": [
        " Returns an array with evenly spaced elements as per the interval. The interval mentioned is half opened i.e. [Start, Stop,step)"
      ]
    },
    {
      "cell_type": "code",
      "execution_count": null,
      "metadata": {
        "id": "Fci1KoofsNvZ",
        "outputId": "c77bb699-3536-4bf4-91f3-4fa97f3f0c38"
      },
      "outputs": [
        {
          "data": {
            "text/plain": [
              "array([10, 12, 14, 16, 18, 20, 22, 24, 26, 28])"
            ]
          },
          "execution_count": 12,
          "metadata": {},
          "output_type": "execute_result"
        }
      ],
      "source": [
        "#with condition\n",
        "a = np.arange(10,30,2)\n",
        "a"
      ]
    },
    {
      "cell_type": "markdown",
      "metadata": {
        "id": "xw65KdyUsNvZ"
      },
      "source": [
        "The numpy.linspace() function returns number spaces evenly w.r.t interval. Similar to numpy.arange() function but instead of step it uses sample number."
      ]
    },
    {
      "cell_type": "code",
      "execution_count": 23,
      "metadata": {
        "colab": {
          "base_uri": "https://localhost:8080/"
        },
        "id": "569d4ZYlsNvZ",
        "outputId": "491c4c23-8678-45c5-e7c0-850f961d5788"
      },
      "outputs": [
        {
          "output_type": "execute_result",
          "data": {
            "text/plain": [
              "array([ 1. , 10.5, 20. ])"
            ]
          },
          "metadata": {},
          "execution_count": 23
        }
      ],
      "source": [
        "# #using line space, number of sample =5\n",
        "# a = np.linspace(10,30,5)\n",
        "# a\n",
        "a = np.linspace(1,20,3)\n",
        "a"
      ]
    },
    {
      "cell_type": "markdown",
      "metadata": {
        "id": "laDjIVLssNva"
      },
      "source": [
        "# Dimension"
      ]
    },
    {
      "cell_type": "code",
      "execution_count": 24,
      "metadata": {
        "colab": {
          "base_uri": "https://localhost:8080/"
        },
        "id": "z8V7_cPDsNva",
        "outputId": "582e72a8-fb3a-4206-f4a4-d40c7a4d111b"
      },
      "outputs": [
        {
          "output_type": "stream",
          "name": "stdout",
          "text": [
            "42\n",
            "0\n"
          ]
        }
      ],
      "source": [
        "#Zero dimension\n",
        "arr = np.array(42)\n",
        "\n",
        "print(arr)\n",
        "\n",
        "print(arr.ndim)"
      ]
    },
    {
      "cell_type": "code",
      "execution_count": 25,
      "metadata": {
        "colab": {
          "base_uri": "https://localhost:8080/"
        },
        "id": "yWqP4D_RsNva",
        "outputId": "c0fa6257-31d4-486d-d2ac-8d06a00dad96"
      },
      "outputs": [
        {
          "output_type": "stream",
          "name": "stdout",
          "text": [
            "[1 2 3 4 5]\n",
            "1\n"
          ]
        }
      ],
      "source": [
        "#one dimension\n",
        "arr = np.array([1, 2, 3, 4, 5])\n",
        "\n",
        "print(arr)\n",
        "\n",
        "print(arr.ndim)"
      ]
    },
    {
      "cell_type": "markdown",
      "metadata": {
        "id": "NdgHhKR8sNvb"
      },
      "source": [
        "More than one dimension:"
      ]
    },
    {
      "cell_type": "code",
      "execution_count": 32,
      "metadata": {
        "colab": {
          "base_uri": "https://localhost:8080/"
        },
        "id": "wnK1TK-fsNvb",
        "outputId": "d19d369c-5e10-4a9d-a305-0f6d38630e83"
      },
      "outputs": [
        {
          "output_type": "stream",
          "name": "stdout",
          "text": [
            "[[ 1  2  3  4]\n",
            " [ 2  3  4  6]\n",
            " [22 33 44 55]]\n",
            "2\n"
          ]
        }
      ],
      "source": [
        "# #Two dimension\n",
        "\n",
        "# arr = np.array([[1, 2, 3], [4, 5, 6]])\n",
        "\n",
        "# print(arr)\n",
        "# print(arr.ndim)\n",
        "\n",
        "arry = np.array([[1,2,3,4],[2,3,4,6],[22,33,44,55]])\n",
        "print(arry)\n",
        "print(arry.ndim)"
      ]
    },
    {
      "cell_type": "code",
      "execution_count": 33,
      "metadata": {
        "colab": {
          "base_uri": "https://localhost:8080/"
        },
        "id": "KzwPucUmsNvb",
        "outputId": "a8c5c4e7-35df-4567-ec1f-d9aac32d8c20"
      },
      "outputs": [
        {
          "output_type": "stream",
          "name": "stdout",
          "text": [
            "[[[1 2 3]\n",
            "  [4 5 6]]\n",
            "\n",
            " [[1 2 3]\n",
            "  [4 5 6]]]\n",
            "3\n"
          ]
        }
      ],
      "source": [
        "#Three dimension\n",
        "\n",
        "arr = np.array([[[1, 2, 3], [4, 5, 6]], [[1, 2, 3], [4, 5, 6]]])\n",
        "\n",
        "print(arr)\n",
        "\n",
        "print(arr.ndim)"
      ]
    },
    {
      "cell_type": "code",
      "execution_count": 35,
      "metadata": {
        "colab": {
          "base_uri": "https://localhost:8080/"
        },
        "id": "MrPpg3yYsNvb",
        "outputId": "3bbfc50d-2bc9-47f8-ab5a-a66935899d62"
      },
      "outputs": [
        {
          "output_type": "stream",
          "name": "stdout",
          "text": [
            "[[[[[1 2 3 4]]]]]\n",
            "5\n"
          ]
        }
      ],
      "source": [
        "# #multiple dimension\n",
        "# arr = np.array([1, 2, 3, 4], ndmin=5)\n",
        "\n",
        "# print(arr)\n",
        "# print(arr.ndim)\n",
        "\n",
        "arr = np.array([1,2,3,4],ndmin=5)\n",
        "print(arr)\n",
        "print(arr.ndim)"
      ]
    },
    {
      "cell_type": "code",
      "execution_count": 43,
      "metadata": {
        "colab": {
          "base_uri": "https://localhost:8080/"
        },
        "id": "Ff1jrug2sNvc",
        "outputId": "932e6052-bd52-405a-feb9-116fc0a43414"
      },
      "outputs": [
        {
          "output_type": "execute_result",
          "data": {
            "text/plain": [
              "0.46377418415529115"
            ]
          },
          "metadata": {},
          "execution_count": 43
        }
      ],
      "source": [
        "#random method to creat array\n",
        "a = np.random.rand()\n",
        "a"
      ]
    },
    {
      "cell_type": "markdown",
      "metadata": {
        "id": "lnnxJxJmsNvc"
      },
      "source": [
        "Random sampling in numpy | randint() function"
      ]
    },
    {
      "cell_type": "code",
      "execution_count": 47,
      "metadata": {
        "colab": {
          "base_uri": "https://localhost:8080/"
        },
        "id": "yTlO1tPRsNvc",
        "outputId": "8fc39564-e8e9-44dc-88c2-26a97e3deb73"
      },
      "outputs": [
        {
          "output_type": "execute_result",
          "data": {
            "text/plain": [
              "array([17,  3,  0, 13, 15])"
            ]
          },
          "metadata": {},
          "execution_count": 47
        }
      ],
      "source": [
        "a = np.random.randint(20, size=(5))\n",
        "\n",
        "a"
      ]
    },
    {
      "cell_type": "code",
      "execution_count": 48,
      "metadata": {
        "colab": {
          "base_uri": "https://localhost:8080/"
        },
        "id": "jopcZkqGsNvc",
        "outputId": "13a2c4f5-f662-4703-8c97-104b5c39bafb"
      },
      "outputs": [
        {
          "output_type": "execute_result",
          "data": {
            "text/plain": [
              "array([0.48590254, 0.35057908, 0.18768789, 0.69010641])"
            ]
          },
          "metadata": {},
          "execution_count": 48
        }
      ],
      "source": [
        "a = np.random.rand(4)\n",
        "\n",
        "a"
      ]
    },
    {
      "cell_type": "code",
      "execution_count": 49,
      "metadata": {
        "colab": {
          "base_uri": "https://localhost:8080/"
        },
        "id": "dhPJm8BysNvd",
        "outputId": "9adf8074-496c-45a7-bf73-ede9f695e4ea"
      },
      "outputs": [
        {
          "output_type": "execute_result",
          "data": {
            "text/plain": [
              "array([[0.14824406, 0.38001492],\n",
              "       [0.73986977, 0.21200521]])"
            ]
          },
          "metadata": {},
          "execution_count": 49
        }
      ],
      "source": [
        "a = np.random.rand(2,2)\n",
        "\n",
        "a\n"
      ]
    },
    {
      "cell_type": "markdown",
      "metadata": {
        "id": "8R2BZtJLsNvd"
      },
      "source": [
        "Return one of the values in an array:"
      ]
    },
    {
      "cell_type": "code",
      "execution_count": 54,
      "metadata": {
        "colab": {
          "base_uri": "https://localhost:8080/"
        },
        "id": "n8KSDphlsNvd",
        "outputId": "d1c5efb7-e707-4ebf-efe5-095c7e150b25"
      },
      "outputs": [
        {
          "output_type": "execute_result",
          "data": {
            "text/plain": [
              "1"
            ]
          },
          "metadata": {},
          "execution_count": 54
        }
      ],
      "source": [
        "\n",
        "dice = np.random.choice([1,2,3,4,5,6])\n",
        "\n",
        "dice"
      ]
    },
    {
      "cell_type": "markdown",
      "metadata": {
        "id": "JWuzAXX3sNvd"
      },
      "source": [
        "Generate a 2-D array that consists of the values in the array parameter (3, 5, 7, and 9)"
      ]
    },
    {
      "cell_type": "code",
      "execution_count": 95,
      "metadata": {
        "colab": {
          "base_uri": "https://localhost:8080/"
        },
        "id": "Rq6bOeNcsNve",
        "outputId": "c5a0d07b-c562-47c7-e81a-2f3b813050cc"
      },
      "outputs": [
        {
          "output_type": "execute_result",
          "data": {
            "text/plain": [
              "array([[4, 3]])"
            ]
          },
          "metadata": {},
          "execution_count": 95
        }
      ],
      "source": [
        "# a = np.random.choice([3, 5, 7, 9], size=(1, 2))\n",
        "\n",
        "# a\n",
        "a = np.random.choice([10,20,30,40,50,60], size=(1,2))\n",
        "a\n",
        "b = np.random.choice([1,2,3,4,5],size=(1,2))\n",
        "b"
      ]
    },
    {
      "cell_type": "markdown",
      "metadata": {
        "id": "EkIXbN3ssNvm"
      },
      "source": [
        "# Data type"
      ]
    },
    {
      "cell_type": "markdown",
      "metadata": {
        "id": "IJnZInJ8sNvn"
      },
      "source": [
        "Data Types in NumPy\n",
        "NumPy has some extra data types, and refer to data types with one character, like i for integers, u for unsigned integers etc.\n",
        "\n",
        "Below is a list of all data types in NumPy and the characters used to represent them.\n",
        "\n",
        "i - integer\n",
        "b - boolean\n",
        "u - unsigned integer\n",
        "f - float\n",
        "c - complex float\n",
        "m - timedelta\n",
        "M - datetime\n",
        "O - object\n",
        "S - string\n",
        "U - unicode string\n",
        "V - fixed chunk of memory for other type ( void )"
      ]
    },
    {
      "cell_type": "code",
      "execution_count": 67,
      "metadata": {
        "colab": {
          "base_uri": "https://localhost:8080/"
        },
        "id": "DDhkDczjsNvn",
        "outputId": "6f161d62-fb08-45d1-fa1e-b54c7645d498"
      },
      "outputs": [
        {
          "output_type": "stream",
          "name": "stdout",
          "text": [
            "int64\n"
          ]
        }
      ],
      "source": [
        "#int\n",
        "arr = np.array([1,2,3,4,5])\n",
        "\n",
        "print(arr.dtype)"
      ]
    },
    {
      "cell_type": "code",
      "execution_count": 68,
      "metadata": {
        "colab": {
          "base_uri": "https://localhost:8080/"
        },
        "id": "pIydpgccsNvo",
        "outputId": "870879db-1173-46bd-ca43-fe54a9b72513"
      },
      "outputs": [
        {
          "output_type": "stream",
          "name": "stdout",
          "text": [
            "<U6\n"
          ]
        }
      ],
      "source": [
        "#string\n",
        "arr = np.array(['python', 'java', 'c'])\n",
        "\n",
        "print(arr.dtype)"
      ]
    },
    {
      "cell_type": "code",
      "execution_count": 86,
      "metadata": {
        "colab": {
          "base_uri": "https://localhost:8080/"
        },
        "id": "otUvQF94sNvp",
        "outputId": "98ee4748-b1e6-4e02-a30b-ab1be46ddece"
      },
      "outputs": [
        {
          "output_type": "execute_result",
          "data": {
            "text/plain": [
              "array([1, 2, 3, 4, 5], dtype=int32)"
            ]
          },
          "metadata": {},
          "execution_count": 86
        }
      ],
      "source": [
        "#convert data type\n",
        "import datetime\n",
        "arr = np.array([1,2,3,4,5.8])\n",
        "\n",
        "#arr.dtype\n",
        "new_arr = arr.astype('i')\n",
        "new_arr"
      ]
    },
    {
      "cell_type": "code",
      "execution_count": 87,
      "metadata": {
        "colab": {
          "base_uri": "https://localhost:8080/"
        },
        "id": "sOrYj-CLsNvp",
        "outputId": "997f04c9-d667-44c0-81c1-ef320444383c"
      },
      "outputs": [
        {
          "output_type": "stream",
          "name": "stdout",
          "text": [
            "[1.  2.  3.  4.  5.8]\n",
            "[1 2 3 4 5]\n",
            "int32\n"
          ]
        }
      ],
      "source": [
        "print(arr)\n",
        "print(new_arr)\n",
        "print(new_arr.dtype)"
      ]
    },
    {
      "cell_type": "code",
      "execution_count": 88,
      "metadata": {
        "colab": {
          "base_uri": "https://localhost:8080/"
        },
        "id": "xIqWp5OMsNvq",
        "outputId": "155031aa-a965-42a2-e214-a800cd0bf942"
      },
      "outputs": [
        {
          "output_type": "stream",
          "name": "stdout",
          "text": [
            "[ True False  True]\n",
            "bool\n"
          ]
        }
      ],
      "source": [
        "arr = np.array([4, 0, 2])\n",
        "\n",
        "newarr = arr.astype(bool)\n",
        "\n",
        "print(newarr)\n",
        "print(newarr.dtype)"
      ]
    },
    {
      "cell_type": "markdown",
      "metadata": {
        "id": "Lh-G9dr9sNvr"
      },
      "source": [
        "# COPY Array"
      ]
    },
    {
      "cell_type": "code",
      "source": [
        "a = np.array([[1,2,3,4],[2,3,4,5]])\n",
        "a\n",
        "print('a is :\\n',a)\n",
        "b = a.copy()\n",
        "print('b is :\\n',b)"
      ],
      "metadata": {
        "colab": {
          "base_uri": "https://localhost:8080/"
        },
        "id": "Nkabqx6P_KUt",
        "outputId": "9a6f82a0-7538-4521-b995-ff874af51fef"
      },
      "execution_count": 99,
      "outputs": [
        {
          "output_type": "stream",
          "name": "stdout",
          "text": [
            "a is :\n",
            " [[1 2 3 4]\n",
            " [2 3 4 5]]\n",
            "b is :\n",
            " [[1 2 3 4]\n",
            " [2 3 4 5]]\n"
          ]
        }
      ]
    },
    {
      "cell_type": "code",
      "execution_count": 100,
      "metadata": {
        "collapsed": true,
        "id": "7bFvG6hUsNvr"
      },
      "outputs": [],
      "source": [
        "arr = np.array([10,20,30,40,50])\n",
        "a = arr.copy()"
      ]
    },
    {
      "cell_type": "code",
      "execution_count": 101,
      "metadata": {
        "colab": {
          "base_uri": "https://localhost:8080/"
        },
        "id": "ipFXAIn9sNvs",
        "outputId": "6a3fd2b0-fd98-4412-8638-55af55cdf3fc"
      },
      "outputs": [
        {
          "output_type": "stream",
          "name": "stdout",
          "text": [
            "[10 20 30 40 50]\n",
            "[10 20 30 40 50]\n"
          ]
        }
      ],
      "source": [
        "print(arr)\n",
        "print(a)"
      ]
    },
    {
      "cell_type": "markdown",
      "metadata": {
        "id": "9Pekxcn8sNvs"
      },
      "source": [
        "Make a view, change the original array, and display both arrays"
      ]
    },
    {
      "cell_type": "code",
      "execution_count": 112,
      "metadata": {
        "collapsed": true,
        "colab": {
          "base_uri": "https://localhost:8080/"
        },
        "id": "jAh0ol1nsNvt",
        "outputId": "18077b87-620d-4d90-a637-f8154d0f9e35"
      },
      "outputs": [
        {
          "output_type": "stream",
          "name": "stdout",
          "text": [
            "before\n",
            "\n",
            "arr is :\n",
            " [10 20 30 40 50]\n",
            "a is :\n",
            " [10 20 30 40 50]\n",
            "\n",
            "after\n",
            "\n",
            "arr is :\n",
            " [50 20 30 40 50]\n",
            "a is :\n",
            " [50 20 30 40 50]\n"
          ]
        }
      ],
      "source": [
        "#view, changing in view array affect orignal arrray\n",
        "\n",
        "arr = np.array([10,20,30,40,50])\n",
        "a = arr.view()\n",
        "print(\"before\\n\")\n",
        "print(\"arr is :\\n\",arr)\n",
        "print(\"a is :\\n\",a)\n",
        "a[0]=50\n",
        "print(\"\\nafter\\n\")\n",
        "print(\"arr is :\\n\",arr)\n",
        "print(\"a is :\\n\",a)"
      ]
    },
    {
      "cell_type": "code",
      "execution_count": 113,
      "metadata": {
        "colab": {
          "base_uri": "https://localhost:8080/"
        },
        "id": "RTFSax90sNvt",
        "outputId": "36631658-ca98-4308-eff4-9a2ca82901b0"
      },
      "outputs": [
        {
          "output_type": "stream",
          "name": "stdout",
          "text": [
            "[50 20 30 40 50]\n",
            "[50 20 30 40 50]\n"
          ]
        }
      ],
      "source": [
        "print(arr)\n",
        "print(a)"
      ]
    },
    {
      "cell_type": "markdown",
      "metadata": {
        "id": "JsjZLrNhsNvu"
      },
      "source": [
        "# Indexing & slicing"
      ]
    },
    {
      "cell_type": "code",
      "execution_count": 114,
      "metadata": {
        "colab": {
          "base_uri": "https://localhost:8080/"
        },
        "id": "-Ydtn7jnsNvv",
        "outputId": "959375e9-e7e5-4041-d40f-361ca833a1f1"
      },
      "outputs": [
        {
          "output_type": "execute_result",
          "data": {
            "text/plain": [
              "10"
            ]
          },
          "metadata": {},
          "execution_count": 114
        }
      ],
      "source": [
        "arr = np.array([10,20,30,40,50])\n",
        "\n",
        "arr[0]"
      ]
    },
    {
      "cell_type": "code",
      "execution_count": 115,
      "metadata": {
        "colab": {
          "base_uri": "https://localhost:8080/"
        },
        "id": "UVr119VKsNvv",
        "outputId": "d879dee0-e540-44a3-a8ac-97a317f3619a"
      },
      "outputs": [
        {
          "output_type": "execute_result",
          "data": {
            "text/plain": [
              "20"
            ]
          },
          "metadata": {},
          "execution_count": 115
        }
      ],
      "source": [
        "\n",
        "arr[1]"
      ]
    },
    {
      "cell_type": "code",
      "execution_count": 121,
      "metadata": {
        "colab": {
          "base_uri": "https://localhost:8080/"
        },
        "id": "2Xj-95uXsNvw",
        "outputId": "bca5289e-5d85-495b-abc0-0fad4b038bb4"
      },
      "outputs": [
        {
          "output_type": "stream",
          "name": "stdout",
          "text": [
            "[[ 10  20  30  40  50]\n",
            " [ 60  70  80  90 100]\n",
            " [110 120 130 140 150]]\n",
            "arr[1, 3]:\n",
            " 90\n",
            "arr[-2, -2]:\n",
            " 90\n"
          ]
        }
      ],
      "source": [
        "import numpy as np\n",
        "arr = np.array([[10,20,30,40,50], [60,70,80,90,100],[110,120,130,140,150]])\n",
        "print(arr)\n",
        "print(\"arr[1, 3]:\\n\",arr[1, 3])\n",
        "print(\"arr[-2, -2]:\\n\",arr[-2, -2])"
      ]
    },
    {
      "cell_type": "code",
      "execution_count": 119,
      "metadata": {
        "colab": {
          "base_uri": "https://localhost:8080/"
        },
        "id": "BSxR4MnvsNvx",
        "outputId": "c16b5f66-fb91-4957-9836-8520d523341f"
      },
      "outputs": [
        {
          "output_type": "stream",
          "name": "stdout",
          "text": [
            "[[ 1  2  3  4  5]\n",
            " [ 6  7  8  9 10]]\n"
          ]
        },
        {
          "output_type": "execute_result",
          "data": {
            "text/plain": [
              "4"
            ]
          },
          "metadata": {},
          "execution_count": 119
        }
      ],
      "source": [
        "arr = np.array([[1,2,3,4,5], [6,7,8,9,10]])\n",
        "print(arr)\n",
        "arr[0, -2]"
      ]
    },
    {
      "cell_type": "code",
      "execution_count": 126,
      "metadata": {
        "colab": {
          "base_uri": "https://localhost:8080/"
        },
        "id": "XYPyzB8ZsNvx",
        "outputId": "68a94885-db10-48bb-a452-ab9e3e9be3cb"
      },
      "outputs": [
        {
          "output_type": "execute_result",
          "data": {
            "text/plain": [
              "array([[1, 2, 3, 4, 5],\n",
              "       [2, 3, 4, 5, 6],\n",
              "       [9, 7, 6, 8, 9]])"
            ]
          },
          "metadata": {},
          "execution_count": 126
        }
      ],
      "source": [
        "lis1=[1,2,3,4,5]\n",
        "lis2=[2,3,4,5,6]\n",
        "lis3=[9,7,6,8,9]\n",
        "\n",
        "arr=np.array([lis1,lis2,lis3])\n",
        "arr\n"
      ]
    },
    {
      "cell_type": "code",
      "execution_count": 127,
      "metadata": {
        "colab": {
          "base_uri": "https://localhost:8080/"
        },
        "id": "Vfp1alErsNvy",
        "outputId": "b503c757-634e-4813-cf38-547d75335442"
      },
      "outputs": [
        {
          "output_type": "execute_result",
          "data": {
            "text/plain": [
              "array([[1, 2, 3],\n",
              "       [2, 3, 4]])"
            ]
          },
          "metadata": {},
          "execution_count": 127
        }
      ],
      "source": [
        "arr[:2,:3]\n"
      ]
    },
    {
      "cell_type": "code",
      "execution_count": 128,
      "metadata": {
        "colab": {
          "base_uri": "https://localhost:8080/"
        },
        "id": "2LutrfcAsNvy",
        "outputId": "8b8b4fd2-d390-4449-ad16-a2c071e1d420"
      },
      "outputs": [
        {
          "output_type": "execute_result",
          "data": {
            "text/plain": [
              "array([[8, 9]])"
            ]
          },
          "metadata": {},
          "execution_count": 128
        }
      ],
      "source": [
        "arr[2:,3:]\n"
      ]
    },
    {
      "cell_type": "code",
      "execution_count": 129,
      "metadata": {
        "colab": {
          "base_uri": "https://localhost:8080/"
        },
        "id": "xnzLGDvSsNvz",
        "outputId": "7f59f407-f076-44f4-f47d-100395919de7"
      },
      "outputs": [
        {
          "output_type": "execute_result",
          "data": {
            "text/plain": [
              "array([[4, 5],\n",
              "       [5, 6],\n",
              "       [8, 9]])"
            ]
          },
          "metadata": {},
          "execution_count": 129
        }
      ],
      "source": [
        "arr[:,3:]\n"
      ]
    },
    {
      "cell_type": "markdown",
      "metadata": {
        "id": "6GL8j4TSsNvz"
      },
      "source": [
        "# Shape"
      ]
    },
    {
      "cell_type": "code",
      "execution_count": 133,
      "metadata": {
        "colab": {
          "base_uri": "https://localhost:8080/"
        },
        "id": "xP__h6vdsNv0",
        "outputId": "288be8ea-b758-467f-ad89-7de67793d92c"
      },
      "outputs": [
        {
          "output_type": "execute_result",
          "data": {
            "text/plain": [
              "(2, 4)"
            ]
          },
          "metadata": {},
          "execution_count": 133
        }
      ],
      "source": [
        "arr = np.array([[1, 2, 3, 4], [5, 6, 7, 8]])\n",
        "arr.shape"
      ]
    },
    {
      "cell_type": "code",
      "execution_count": 134,
      "metadata": {
        "colab": {
          "base_uri": "https://localhost:8080/"
        },
        "id": "mfv28ThHsNv0",
        "outputId": "07397b38-e70e-4f52-ded0-520b85e3cdde"
      },
      "outputs": [
        {
          "output_type": "stream",
          "name": "stdout",
          "text": [
            "[[[1 2 3 4]]]\n"
          ]
        },
        {
          "output_type": "execute_result",
          "data": {
            "text/plain": [
              "(1, 1, 4)"
            ]
          },
          "metadata": {},
          "execution_count": 134
        }
      ],
      "source": [
        "arr = np.array([1, 2, 3, 4], ndmin=3)\n",
        "\n",
        "print(arr)\n",
        "arr.shape\n"
      ]
    },
    {
      "cell_type": "markdown",
      "metadata": {
        "id": "z1LnieK3sNv1"
      },
      "source": [
        "# Reshape"
      ]
    },
    {
      "cell_type": "code",
      "execution_count": 137,
      "metadata": {
        "colab": {
          "base_uri": "https://localhost:8080/"
        },
        "id": "p5zjQFbgsNv1",
        "outputId": "0de59756-1590-4a6d-c6b8-53648d680f41"
      },
      "outputs": [
        {
          "output_type": "stream",
          "name": "stdout",
          "text": [
            "[ 1  2  3  4  5  6  7  8  9 10 11 12]\n",
            "     \n",
            "[[ 1  2  3]\n",
            " [ 4  5  6]\n",
            " [ 7  8  9]\n",
            " [10 11 12]]\n"
          ]
        }
      ],
      "source": [
        "arr = np.array([1, 2, 3, 4, 5, 6, 7, 8, 9, 10, 11, 12])\n",
        "print(arr)\n",
        "\n",
        "print(\"     \")\n",
        "\n",
        "new_arr = arr.reshape(4,3)\n",
        "\n",
        "print(new_arr)"
      ]
    },
    {
      "cell_type": "code",
      "execution_count": 143,
      "metadata": {
        "colab": {
          "base_uri": "https://localhost:8080/"
        },
        "id": "_Yk5EKW7sNv1",
        "outputId": "36048b93-7b59-4a2b-de5b-63e8e0076da1"
      },
      "outputs": [
        {
          "output_type": "stream",
          "name": "stdout",
          "text": [
            "[ 1  2  3  4  5  6  7  8  9 10 11 12]\n",
            "[[[ 1  2  3]\n",
            "  [ 4  5  6]]\n",
            "\n",
            " [[ 7  8  9]\n",
            "  [10 11 12]]]\n",
            "[[[ 1  7]\n",
            "  [ 4 10]]\n",
            "\n",
            " [[ 2  8]\n",
            "  [ 5 11]]\n",
            "\n",
            " [[ 3  9]\n",
            "  [ 6 12]]]\n"
          ]
        }
      ],
      "source": [
        "arr = np.array([1, 2, 3, 4, 5, 6, 7, 8, 9, 10, 11, 12])\n",
        "\n",
        "print(arr)\n",
        "\n",
        "newarr = arr.reshape(2, 2, 3)\n",
        "\n",
        "print(newarr)"
      ]
    },
    {
      "cell_type": "code",
      "source": [
        "arr = np.array([[1,2,3,4],[5,6,7,8]])\n",
        "arr\n",
        "arr.transpose()#arr.T"
      ],
      "metadata": {
        "colab": {
          "base_uri": "https://localhost:8080/"
        },
        "id": "DP6iSwsCELSZ",
        "outputId": "3fe2e05e-7ef7-4805-d99e-ca491169fc49"
      },
      "execution_count": 147,
      "outputs": [
        {
          "output_type": "execute_result",
          "data": {
            "text/plain": [
              "array([[1, 5],\n",
              "       [2, 6],\n",
              "       [3, 7],\n",
              "       [4, 8]])"
            ]
          },
          "metadata": {},
          "execution_count": 147
        }
      ]
    },
    {
      "cell_type": "markdown",
      "metadata": {
        "id": "EmAqkpkssNv2"
      },
      "source": [
        "# iterating"
      ]
    },
    {
      "cell_type": "code",
      "execution_count": 149,
      "metadata": {
        "colab": {
          "base_uri": "https://localhost:8080/"
        },
        "id": "DCrcx-xRsNv2",
        "outputId": "927106d5-f051-4407-8c40-85ca4a8ba3a6"
      },
      "outputs": [
        {
          "output_type": "stream",
          "name": "stdout",
          "text": [
            "1\n",
            "2\n",
            "3\n",
            "4\n",
            "5\n",
            "6\n",
            "7\n",
            "8\n",
            "9\n",
            "10\n",
            "11\n",
            "12\n"
          ]
        }
      ],
      "source": [
        "arr = np.array([1, 2, 3, 4, 5, 6, 7, 8, 9, 10, 11, 12])\n",
        "\n",
        "# for i in arr:\n",
        "#   print(i)\n",
        "for i in arr:\n",
        "  print(i)"
      ]
    },
    {
      "cell_type": "code",
      "execution_count": 150,
      "metadata": {
        "collapsed": true,
        "colab": {
          "base_uri": "https://localhost:8080/"
        },
        "id": "0qK2l2sqsNv2",
        "outputId": "28b64d65-4b44-4e5a-c163-f62f60d251c4"
      },
      "outputs": [
        {
          "output_type": "execute_result",
          "data": {
            "text/plain": [
              "array([[1, 2, 3, 4, 5],\n",
              "       [2, 3, 4, 5, 6],\n",
              "       [9, 7, 6, 8, 9]])"
            ]
          },
          "metadata": {},
          "execution_count": 150
        }
      ],
      "source": [
        "lis1=[1,2,3,4,5]\n",
        "lis2=[2,3,4,5,6]\n",
        "lis3=[9,7,6,8,9]\n",
        "\n",
        "arr=np.array([lis1,lis2,lis3])\n",
        "arr"
      ]
    },
    {
      "cell_type": "code",
      "execution_count": 156,
      "metadata": {
        "colab": {
          "base_uri": "https://localhost:8080/"
        },
        "id": "uBSgkh8WsNv2",
        "outputId": "4a4bfecf-fb66-4df7-8200-56b7b4562da1"
      },
      "outputs": [
        {
          "output_type": "stream",
          "name": "stdout",
          "text": [
            "1\n",
            "2\n",
            "3\n",
            "4\n",
            "5\n",
            "2\n",
            "3\n",
            "4\n",
            "5\n",
            "6\n",
            "9\n",
            "7\n",
            "6\n",
            "8\n",
            "9\n"
          ]
        }
      ],
      "source": [
        "# for i in np.nditer(arr):\n",
        "#    print(i)\n",
        "for i in np.nditer(arr):\n",
        "   print(i)"
      ]
    },
    {
      "cell_type": "code",
      "source": [
        "\n",
        "\n",
        "# Create two arrays with different shapes\n",
        "a = np.array([[1, 2, 3], [4, 5, 6]])\n",
        "b = np.array([2, 3, 4])\n",
        "\n",
        "# Create an nditer object to iterate over both arrays simultaneously\n",
        "it = np.nditer([a, b])\n",
        "\n",
        "# Iterate over elements and perform some operation (e.g., addition)\n",
        "for x, y in it:\n",
        "    print(x + y)\n"
      ],
      "metadata": {
        "colab": {
          "base_uri": "https://localhost:8080/"
        },
        "id": "chJuNz--FExj",
        "outputId": "1aa41eb2-e1d3-40b7-dc89-243f3f3da2e8"
      },
      "execution_count": 157,
      "outputs": [
        {
          "output_type": "stream",
          "name": "stdout",
          "text": [
            "3\n",
            "5\n",
            "7\n",
            "6\n",
            "8\n",
            "10\n"
          ]
        }
      ]
    },
    {
      "cell_type": "markdown",
      "metadata": {
        "id": "dCqpZyeTsNv3"
      },
      "source": [
        "# Transpose  array\n",
        "\n",
        "rotate array"
      ]
    },
    {
      "cell_type": "code",
      "execution_count": 158,
      "metadata": {
        "colab": {
          "base_uri": "https://localhost:8080/"
        },
        "id": "Ma5j-3fusNv3",
        "outputId": "188ccc0c-5f80-424c-c3d8-a5c20504f486"
      },
      "outputs": [
        {
          "output_type": "stream",
          "name": "stdout",
          "text": [
            "[[1 2 3 4 5]\n",
            " [2 3 4 5 6]\n",
            " [9 7 6 8 9]]\n",
            "__________\n",
            "[[1 2 9]\n",
            " [2 3 7]\n",
            " [3 4 6]\n",
            " [4 5 8]\n",
            " [5 6 9]]\n"
          ]
        }
      ],
      "source": [
        "\n",
        "print(arr)\n",
        "\n",
        "print(\"__________\")\n",
        "\n",
        "Tran_arry  = arr.T\n",
        "\n",
        "print(Tran_arry)\n"
      ]
    },
    {
      "cell_type": "markdown",
      "metadata": {
        "id": "8oy8dAbvsNv3"
      },
      "source": [
        "# sorting"
      ]
    },
    {
      "cell_type": "code",
      "execution_count": 159,
      "metadata": {
        "colab": {
          "base_uri": "https://localhost:8080/"
        },
        "id": "CD1tNu1JsNv3",
        "outputId": "daa3387e-38e1-40fe-9fd5-7eecd5e9f396"
      },
      "outputs": [
        {
          "output_type": "stream",
          "name": "stdout",
          "text": [
            "[ 7  2 23 15 11]\n",
            "[ 2  7 11 15 23]\n"
          ]
        }
      ],
      "source": [
        "arr = np.array([7,2,23,15,11])\n",
        "print(arr)\n",
        "print(np.sort(arr))"
      ]
    },
    {
      "cell_type": "code",
      "execution_count": 161,
      "metadata": {
        "colab": {
          "base_uri": "https://localhost:8080/"
        },
        "id": "mzNWmQp3sNv4",
        "outputId": "9734738c-af72-4cb5-a4c1-54ec65a7f9e6"
      },
      "outputs": [
        {
          "output_type": "execute_result",
          "data": {
            "text/plain": [
              "array([[10, 20],\n",
              "       [ 7, 13]])"
            ]
          },
          "metadata": {},
          "execution_count": 161
        }
      ],
      "source": [
        "#two dim array sort\n",
        "arr = np.array([[20,10], [13,7]])\n",
        "new_arr = np.sort(arr)\n",
        "new_arr"
      ]
    },
    {
      "cell_type": "code",
      "execution_count": 164,
      "metadata": {
        "colab": {
          "base_uri": "https://localhost:8080/"
        },
        "id": "g2j_n0IhsNv4",
        "outputId": "1af61e1a-47f2-4b6d-b314-de6c1aaf29fd"
      },
      "outputs": [
        {
          "output_type": "stream",
          "name": "stdout",
          "text": [
            "[[20 10]\n",
            " [ 3  7]]\n"
          ]
        },
        {
          "output_type": "execute_result",
          "data": {
            "text/plain": [
              "array([[ 3,  7],\n",
              "       [20, 10]])"
            ]
          },
          "metadata": {},
          "execution_count": 164
        }
      ],
      "source": [
        "#sorting by axis , row ,column\n",
        "arr = np.array([[20,10], [3,7]])\n",
        "print(arr)\n",
        "new_arr = np.sort(arr, axis = 0)\n",
        "new_arr"
      ]
    },
    {
      "cell_type": "markdown",
      "metadata": {
        "id": "CpdN4pxqsNv4"
      },
      "source": [
        "# Searching"
      ]
    },
    {
      "cell_type": "code",
      "execution_count": 172,
      "metadata": {
        "colab": {
          "base_uri": "https://localhost:8080/"
        },
        "id": "CEJcYKc1sNv5",
        "outputId": "c0f19ef9-6438-460b-dbbc-31434941f0d7"
      },
      "outputs": [
        {
          "output_type": "stream",
          "name": "stdout",
          "text": [
            "(array([ 0,  1,  5,  8, 11, 13]),)\n"
          ]
        }
      ],
      "source": [
        "# arr = np.array([[2,2,5,7,8,2,5,9,2,3,4,2,0,2],[2,3,2,3,4,5,2,5,6,7,2,3,4,2]])\n",
        "arr = np.array([2,2,5,7,8,2,5,9,2,3,4,2,0,2])\n",
        "# x = np.where(arr == 2)\n",
        "x = np.where(arr == 2)\n",
        "print(x)"
      ]
    },
    {
      "cell_type": "markdown",
      "metadata": {
        "id": "G27MFEbLsNv5"
      },
      "source": [
        "# Splitting"
      ]
    },
    {
      "cell_type": "code",
      "execution_count": 177,
      "metadata": {
        "colab": {
          "base_uri": "https://localhost:8080/"
        },
        "id": "eyn_QJVmsNv5",
        "outputId": "5542c0e2-1476-481b-9817-0154655b75e5"
      },
      "outputs": [
        {
          "output_type": "stream",
          "name": "stdout",
          "text": [
            "[array([2, 2, 5]), array([7, 8, 2]), array([5, 9])]\n"
          ]
        }
      ],
      "source": [
        "arr = np.array([2,2,5,7,8,2,5,9])\n",
        "\n",
        "#newarr = np.array_split(arr, 4)\n",
        "newarr = np.array_split(arr,3)\n",
        "print(newarr)\n"
      ]
    },
    {
      "cell_type": "markdown",
      "metadata": {
        "id": "IuT4fOuXsNv6"
      },
      "source": [
        "# joining"
      ]
    },
    {
      "cell_type": "code",
      "execution_count": 182,
      "metadata": {
        "colab": {
          "base_uri": "https://localhost:8080/"
        },
        "id": "H87lw5LmsNv6",
        "outputId": "2f615059-bccf-4b04-d0a5-cabf4ecb766d"
      },
      "outputs": [
        {
          "output_type": "execute_result",
          "data": {
            "text/plain": [
              "array([ 8, 10, 12,  2,  4,  6])"
            ]
          },
          "metadata": {},
          "execution_count": 182
        }
      ],
      "source": [
        "arr = np.array([2,4,6])\n",
        "\n",
        "arr1 = np.array([8,10,12])\n",
        "\n",
        "# arr = np.concatenate((arr, arr1))\n",
        "arr = np.concatenate((arr1,arr))\n",
        "arr"
      ]
    },
    {
      "cell_type": "code",
      "execution_count": 183,
      "metadata": {
        "colab": {
          "base_uri": "https://localhost:8080/"
        },
        "id": "CqR_hjOOsNv6",
        "outputId": "8c3166ee-beaa-498c-c899-0b7ed3a38dda"
      },
      "outputs": [
        {
          "output_type": "execute_result",
          "data": {
            "text/plain": [
              "array([[ 2,  4],\n",
              "       [ 6,  8],\n",
              "       [10, 12],\n",
              "       [14, 16]])"
            ]
          },
          "metadata": {},
          "execution_count": 183
        }
      ],
      "source": [
        "arr = np.array([[2, 4], [6, 8]])\n",
        "\n",
        "arr1 = np.array([[10, 12], [14, 16]])\n",
        "\n",
        "arr = np.concatenate((arr, arr1), axis=0)\n",
        "\n",
        "arr"
      ]
    },
    {
      "cell_type": "code",
      "execution_count": 184,
      "metadata": {
        "colab": {
          "base_uri": "https://localhost:8080/"
        },
        "id": "3CknUj5ksNv7",
        "outputId": "f93332d8-60ef-4f58-fd88-74a326c476d4"
      },
      "outputs": [
        {
          "output_type": "execute_result",
          "data": {
            "text/plain": [
              "array([[ 2,  4, 10, 12],\n",
              "       [ 6,  8, 14, 16]])"
            ]
          },
          "metadata": {},
          "execution_count": 184
        }
      ],
      "source": [
        "#try with 1\n",
        "arr = np.array([[2, 4], [6, 8]])\n",
        "\n",
        "arr1 = np.array([[10, 12], [14, 16]])\n",
        "\n",
        "arr = np.concatenate((arr, arr1), axis=1)\n",
        "\n",
        "arr"
      ]
    },
    {
      "cell_type": "code",
      "source": [
        "arr = np.array([[2,4,6],[22,33,44]])\n",
        "\n",
        "arr1 = np.array([[8,10,12],[20,30,40]])\n",
        "\n",
        "arr = np.hstack((arr, arr1))\n",
        "\n",
        "arr"
      ],
      "metadata": {
        "id": "6eCeQAWxITWN"
      },
      "execution_count": null,
      "outputs": []
    },
    {
      "cell_type": "code",
      "execution_count": 187,
      "metadata": {
        "colab": {
          "base_uri": "https://localhost:8080/"
        },
        "id": "kc-UKk85sNv7",
        "outputId": "d49c52a1-bec7-4c32-f29b-2ea0d6a2241b"
      },
      "outputs": [
        {
          "output_type": "execute_result",
          "data": {
            "text/plain": [
              "array([ 2,  4,  6,  8, 10, 12])"
            ]
          },
          "metadata": {},
          "execution_count": 187
        }
      ],
      "source": [
        "arr = np.array([2,4,6])\n",
        "\n",
        "arr1 = np.array([8,10,12])\n",
        "\n",
        "arr = np.hstack((arr, arr1))\n",
        "\n",
        "arr\n"
      ]
    },
    {
      "cell_type": "code",
      "execution_count": 188,
      "metadata": {
        "colab": {
          "base_uri": "https://localhost:8080/"
        },
        "id": "JHqP1f_SsNv-",
        "outputId": "96213c71-a9e8-405f-ff6a-94a637892728"
      },
      "outputs": [
        {
          "output_type": "execute_result",
          "data": {
            "text/plain": [
              "array([[ 2,  4,  6],\n",
              "       [ 8, 10, 12]])"
            ]
          },
          "metadata": {},
          "execution_count": 188
        }
      ],
      "source": [
        "\n",
        "arr = np.array([2,4,6])\n",
        "\n",
        "arr1 = np.array([8,10,12])\n",
        "\n",
        "arr = np.vstack((arr, arr1))\n",
        "\n",
        "arr"
      ]
    },
    {
      "cell_type": "code",
      "execution_count": 189,
      "metadata": {
        "colab": {
          "base_uri": "https://localhost:8080/"
        },
        "id": "rXoX0yOusNv_",
        "outputId": "b097b97b-5cf9-46b9-f3b3-4ef762c4c18e"
      },
      "outputs": [
        {
          "output_type": "execute_result",
          "data": {
            "text/plain": [
              "array([[[ 2,  8],\n",
              "        [ 4, 10],\n",
              "        [ 6, 12]]])"
            ]
          },
          "metadata": {},
          "execution_count": 189
        }
      ],
      "source": [
        "arr = np.array([2,4,6])\n",
        "\n",
        "arr1 = np.array([8,10,12])\n",
        "\n",
        "\n",
        "arr = np.dstack((arr, arr1))\n",
        "\n",
        "arr"
      ]
    },
    {
      "cell_type": "markdown",
      "metadata": {
        "id": "4TT1lMDssNv_"
      },
      "source": [
        "# String , arithmmetic , static opration"
      ]
    },
    {
      "cell_type": "code",
      "source": [
        "np.char.add(['hello','word'],['!','?'])"
      ],
      "metadata": {
        "colab": {
          "base_uri": "https://localhost:8080/"
        },
        "id": "4sPWba1zI2_s",
        "outputId": "38bb30fb-0932-47d9-bf8c-6bbd92ed4cc4"
      },
      "execution_count": 190,
      "outputs": [
        {
          "output_type": "execute_result",
          "data": {
            "text/plain": [
              "array(['hello!', 'word?'], dtype='<U6')"
            ]
          },
          "metadata": {},
          "execution_count": 190
        }
      ]
    },
    {
      "cell_type": "code",
      "execution_count": 196,
      "metadata": {
        "colab": {
          "base_uri": "https://localhost:8080/"
        },
        "id": "ETTSvPlGsNv_",
        "outputId": "3c8d4047-b7df-46d1-ce1b-ff4c9cc4e36a"
      },
      "outputs": [
        {
          "output_type": "stream",
          "name": "stdout",
          "text": [
            "['usa' 'india' 'russia']\n",
            "['USA' 'INDIA' 'RUSSIA']\n"
          ]
        }
      ],
      "source": [
        "arr = np.array([\"USA\",\"INDIA\",\"RUSSIA\"])\n",
        "\n",
        "new_arr = np.char.lower(arr)\n",
        "\n",
        "print(new_arr)\n",
        "new_arr=np.char.upper(new_arr)\n",
        "print(new_arr)"
      ]
    },
    {
      "cell_type": "code",
      "execution_count": 199,
      "metadata": {
        "colab": {
          "base_uri": "https://localhost:8080/"
        },
        "id": "X2WS6zUUsNwA",
        "outputId": "87115167-d3ec-4a19-84d4-4918ebff1dc7"
      },
      "outputs": [
        {
          "output_type": "execute_result",
          "data": {
            "text/plain": [
              "array('c-h-i-r-a-g', dtype='<U11')"
            ]
          },
          "metadata": {},
          "execution_count": 199
        }
      ],
      "source": [
        "arr= np.char.join('-', 'chirag')\n",
        "arr"
      ]
    },
    {
      "cell_type": "code",
      "source": [
        "np.char.split(['hello word'])"
      ],
      "metadata": {
        "colab": {
          "base_uri": "https://localhost:8080/"
        },
        "id": "J4dZD-fgJqOX",
        "outputId": "80ffc1cf-c461-4e2f-b66b-43589a37bfaa"
      },
      "execution_count": 202,
      "outputs": [
        {
          "output_type": "execute_result",
          "data": {
            "text/plain": [
              "array([list(['hello', 'word'])], dtype=object)"
            ]
          },
          "metadata": {},
          "execution_count": 202
        }
      ]
    },
    {
      "cell_type": "code",
      "source": [
        "np.char.replace(['hello word'],'o','a')"
      ],
      "metadata": {
        "colab": {
          "base_uri": "https://localhost:8080/"
        },
        "id": "XWEUqm8bJzLx",
        "outputId": "710f8eb8-f3c3-45ea-a860-5e439ca1eb87"
      },
      "execution_count": 203,
      "outputs": [
        {
          "output_type": "execute_result",
          "data": {
            "text/plain": [
              "array(['hella ward'], dtype='<U10')"
            ]
          },
          "metadata": {},
          "execution_count": 203
        }
      ]
    },
    {
      "cell_type": "code",
      "source": [
        "np.char.strip([' hello word  '])"
      ],
      "metadata": {
        "colab": {
          "base_uri": "https://localhost:8080/"
        },
        "id": "2q3hCCRZKBQu",
        "outputId": "83514781-c64f-4fdc-ce9f-0371ab59df52"
      },
      "execution_count": 204,
      "outputs": [
        {
          "output_type": "execute_result",
          "data": {
            "text/plain": [
              "array(['hello word'], dtype='<U13')"
            ]
          },
          "metadata": {},
          "execution_count": 204
        }
      ]
    },
    {
      "cell_type": "code",
      "source": [
        "np.char.join('-',['hello word'])"
      ],
      "metadata": {
        "colab": {
          "base_uri": "https://localhost:8080/"
        },
        "id": "5toM692vKBUZ",
        "outputId": "5f9d4ddd-b810-4b98-99eb-9c6b33b377a6"
      },
      "execution_count": 205,
      "outputs": [
        {
          "output_type": "execute_result",
          "data": {
            "text/plain": [
              "array(['h-e-l-l-o- -w-o-r-d'], dtype='<U19')"
            ]
          },
          "metadata": {},
          "execution_count": 205
        }
      ]
    },
    {
      "cell_type": "code",
      "source": [
        "np.char.capitalize(['hello word'])"
      ],
      "metadata": {
        "colab": {
          "base_uri": "https://localhost:8080/"
        },
        "id": "MzBfUBV9KQqx",
        "outputId": "e398774f-be31-47f8-b54f-a1598d8ae0b4"
      },
      "execution_count": 206,
      "outputs": [
        {
          "output_type": "execute_result",
          "data": {
            "text/plain": [
              "array(['Hello word'], dtype='<U10')"
            ]
          },
          "metadata": {},
          "execution_count": 206
        }
      ]
    },
    {
      "cell_type": "code",
      "source": [
        "np.char.count(['hello word'],'w')"
      ],
      "metadata": {
        "colab": {
          "base_uri": "https://localhost:8080/"
        },
        "id": "YK8Os7c-KXyn",
        "outputId": "8f706241-704f-40e3-d54d-888c213f0adb"
      },
      "execution_count": 211,
      "outputs": [
        {
          "output_type": "execute_result",
          "data": {
            "text/plain": [
              "array([1])"
            ]
          },
          "metadata": {},
          "execution_count": 211
        }
      ]
    },
    {
      "cell_type": "code",
      "source": [
        "np.char.isnumeric(['123','hello word','44','toy'])"
      ],
      "metadata": {
        "colab": {
          "base_uri": "https://localhost:8080/"
        },
        "id": "nceDZz4DKX1_",
        "outputId": "4fd6ceac-be91-4aac-f9da-a7b3a0c4736d"
      },
      "execution_count": 213,
      "outputs": [
        {
          "output_type": "execute_result",
          "data": {
            "text/plain": [
              "array([ True, False,  True, False])"
            ]
          },
          "metadata": {},
          "execution_count": 213
        }
      ]
    },
    {
      "cell_type": "code",
      "source": [],
      "metadata": {
        "id": "Nj62OoSYKX5a"
      },
      "execution_count": null,
      "outputs": []
    },
    {
      "cell_type": "code",
      "execution_count": 218,
      "metadata": {
        "colab": {
          "base_uri": "https://localhost:8080/"
        },
        "id": "c9HAYwWusNwA",
        "outputId": "ecf51c89-d1a8-48de-b895-48298df303b1"
      },
      "outputs": [
        {
          "output_type": "execute_result",
          "data": {
            "text/plain": [
              "array([2.34, 6.23, 8.34, 5.  , 3.58, 4.36])"
            ]
          },
          "metadata": {},
          "execution_count": 218
        }
      ],
      "source": [
        "arr = np.array([2.344,6.232,8.34,5,3.5799,4.36])\n",
        "\n",
        "np.around(arr,2)"
      ]
    },
    {
      "cell_type": "code",
      "execution_count": 219,
      "metadata": {
        "colab": {
          "base_uri": "https://localhost:8080/"
        },
        "id": "LvGuBbdbsNwA",
        "outputId": "f5e965a4-5655-4942-a3cb-df8691f64838"
      },
      "outputs": [
        {
          "output_type": "execute_result",
          "data": {
            "text/plain": [
              "array([2.3, 6.2, 8.3, 5. , 3.6, 4.4])"
            ]
          },
          "metadata": {},
          "execution_count": 219
        }
      ],
      "source": [
        "np.around(arr, decimals = 1)"
      ]
    },
    {
      "cell_type": "code",
      "execution_count": 221,
      "metadata": {
        "colab": {
          "base_uri": "https://localhost:8080/"
        },
        "id": "IYG52tXcsNwB",
        "outputId": "cdf35857-2aef-4f42-9bb1-fb5d515f7669"
      },
      "outputs": [
        {
          "output_type": "execute_result",
          "data": {
            "text/plain": [
              "array([3., 7., 9., 5., 4., 5.])"
            ]
          },
          "metadata": {},
          "execution_count": 221
        }
      ],
      "source": [
        "# np.floor(arr)\n",
        "np.ceil(arr)"
      ]
    },
    {
      "cell_type": "code",
      "execution_count": 222,
      "metadata": {
        "collapsed": true,
        "id": "2slu7ojMsNwB"
      },
      "outputs": [],
      "source": [
        "arr = np.array([2,4,6])\n",
        "\n",
        "arr1 = np.array([8,10,12])\n"
      ]
    },
    {
      "cell_type": "code",
      "execution_count": 223,
      "metadata": {
        "colab": {
          "base_uri": "https://localhost:8080/"
        },
        "id": "pXEY03qJsNwB",
        "outputId": "a44f77fb-e217-4d41-a96c-036472bcdcf7"
      },
      "outputs": [
        {
          "output_type": "execute_result",
          "data": {
            "text/plain": [
              "array([10, 14, 18])"
            ]
          },
          "metadata": {},
          "execution_count": 223
        }
      ],
      "source": [
        "np.add(arr,arr1)"
      ]
    },
    {
      "cell_type": "code",
      "execution_count": 224,
      "metadata": {
        "colab": {
          "base_uri": "https://localhost:8080/"
        },
        "id": "Ps9NpLyysNwB",
        "outputId": "dc01d7da-47c2-49dd-c171-02ad0f532ca8"
      },
      "outputs": [
        {
          "output_type": "execute_result",
          "data": {
            "text/plain": [
              "array([-6, -6, -6])"
            ]
          },
          "metadata": {},
          "execution_count": 224
        }
      ],
      "source": [
        "np.subtract(arr,arr1)"
      ]
    },
    {
      "cell_type": "code",
      "execution_count": 225,
      "metadata": {
        "colab": {
          "base_uri": "https://localhost:8080/"
        },
        "id": "OLqUc_QtsNwB",
        "outputId": "ceceaa31-4739-4ff4-f51e-d5bce2093450"
      },
      "outputs": [
        {
          "output_type": "execute_result",
          "data": {
            "text/plain": [
              "array([16, 40, 72])"
            ]
          },
          "metadata": {},
          "execution_count": 225
        }
      ],
      "source": [
        "np.multiply(arr,arr1)"
      ]
    },
    {
      "cell_type": "code",
      "execution_count": 226,
      "metadata": {
        "colab": {
          "base_uri": "https://localhost:8080/"
        },
        "id": "egi1b1fFsNwC",
        "outputId": "7b1b0ce3-b708-4415-9275-4b8f560f0fda"
      },
      "outputs": [
        {
          "output_type": "execute_result",
          "data": {
            "text/plain": [
              "array([4. , 2.5, 2. ])"
            ]
          },
          "metadata": {},
          "execution_count": 226
        }
      ],
      "source": [
        "np.divide(arr1,arr)"
      ]
    },
    {
      "cell_type": "code",
      "execution_count": 227,
      "metadata": {
        "colab": {
          "base_uri": "https://localhost:8080/"
        },
        "id": "_Ik9hRpasNwC",
        "outputId": "b527f94a-09d1-444d-bc22-c93e73cd1d1f"
      },
      "outputs": [
        {
          "output_type": "execute_result",
          "data": {
            "text/plain": [
              "array([ 4, 16, 36])"
            ]
          },
          "metadata": {},
          "execution_count": 227
        }
      ],
      "source": [
        "np.power(arr,2)"
      ]
    },
    {
      "cell_type": "code",
      "execution_count": 228,
      "metadata": {
        "colab": {
          "base_uri": "https://localhost:8080/"
        },
        "id": "B8BcB3wesNwC",
        "outputId": "da5c303f-bf51-4d01-a196-b486a15179de"
      },
      "outputs": [
        {
          "output_type": "execute_result",
          "data": {
            "text/plain": [
              "array([0, 2, 0])"
            ]
          },
          "metadata": {},
          "execution_count": 228
        }
      ],
      "source": [
        "np.mod(arr1,arr)"
      ]
    },
    {
      "cell_type": "code",
      "execution_count": 233,
      "metadata": {
        "collapsed": true,
        "colab": {
          "base_uri": "https://localhost:8080/"
        },
        "id": "_l_gU9Z-sNwC",
        "outputId": "6f02bb23-f331-4b60-8908-9864bdb80de7"
      },
      "outputs": [
        {
          "output_type": "execute_result",
          "data": {
            "text/plain": [
              "array([ 10,  22,  34,   4,  55,   6,  97,  83,  93, 120, 111,  12])"
            ]
          },
          "metadata": {},
          "execution_count": 233
        }
      ],
      "source": [
        "arr = np.array([10, 22, 34, 4,55, 6, 97, 83, 93, 120, 111, 12])\n",
        "arr"
      ]
    },
    {
      "cell_type": "code",
      "execution_count": 237,
      "metadata": {
        "colab": {
          "base_uri": "https://localhost:8080/"
        },
        "id": "sQeNCQ63sNwD",
        "outputId": "17a6fb6b-e909-477f-ad12-af7cd6792418"
      },
      "outputs": [
        {
          "output_type": "execute_result",
          "data": {
            "text/plain": [
              "647"
            ]
          },
          "metadata": {},
          "execution_count": 237
        }
      ],
      "source": [
        "# np.median(arr)\n",
        "np.sum(arr)"
      ]
    },
    {
      "cell_type": "code",
      "execution_count": 235,
      "metadata": {
        "colab": {
          "base_uri": "https://localhost:8080/"
        },
        "id": "yRy20rIksNwD",
        "outputId": "b667bd8c-91a9-4a8f-a836-4c8388377e38"
      },
      "outputs": [
        {
          "output_type": "execute_result",
          "data": {
            "text/plain": [
              "53.916666666666664"
            ]
          },
          "metadata": {},
          "execution_count": 235
        }
      ],
      "source": [
        "np.mean(arr)"
      ]
    },
    {
      "cell_type": "code",
      "execution_count": 236,
      "metadata": {
        "colab": {
          "base_uri": "https://localhost:8080/"
        },
        "id": "gyasPnqrsNwD",
        "outputId": "d9c1f7dc-d377-44ff-9b70-cd30bec82d30"
      },
      "outputs": [
        {
          "output_type": "execute_result",
          "data": {
            "text/plain": [
              "53.916666666666664"
            ]
          },
          "metadata": {},
          "execution_count": 236
        }
      ],
      "source": [
        "np.average(arr)"
      ]
    },
    {
      "cell_type": "code",
      "execution_count": 238,
      "metadata": {
        "colab": {
          "base_uri": "https://localhost:8080/"
        },
        "id": "qaGm8CvOsNwE",
        "outputId": "9455c0fc-5769-4dbf-8dd4-db209dd24563"
      },
      "outputs": [
        {
          "output_type": "execute_result",
          "data": {
            "text/plain": [
              "42.56849056390054"
            ]
          },
          "metadata": {},
          "execution_count": 238
        }
      ],
      "source": [
        "np.std(arr)"
      ]
    },
    {
      "cell_type": "code",
      "execution_count": 239,
      "metadata": {
        "colab": {
          "base_uri": "https://localhost:8080/"
        },
        "id": "c-0w2DKMsNwE",
        "outputId": "88bc470f-3aa2-4eed-8b13-fd1fc43d94e4"
      },
      "outputs": [
        {
          "output_type": "execute_result",
          "data": {
            "text/plain": [
              "1812.0763888888894"
            ]
          },
          "metadata": {},
          "execution_count": 239
        }
      ],
      "source": [
        "np.var(arr)"
      ]
    },
    {
      "cell_type": "code",
      "source": [
        "np.sqrt([4,16,49])"
      ],
      "metadata": {
        "colab": {
          "base_uri": "https://localhost:8080/"
        },
        "id": "LSA79bXxLuYe",
        "outputId": "c8dd7ea6-2d6f-47f8-e584-db7d6d6e91ce"
      },
      "execution_count": 240,
      "outputs": [
        {
          "output_type": "execute_result",
          "data": {
            "text/plain": [
              "array([2., 4., 7.])"
            ]
          },
          "metadata": {},
          "execution_count": 240
        }
      ]
    }
  ],
  "metadata": {
    "kernelspec": {
      "display_name": "Python 3",
      "language": "python",
      "name": "python3"
    },
    "language_info": {
      "codemirror_mode": {
        "name": "ipython",
        "version": 3
      },
      "file_extension": ".py",
      "mimetype": "text/x-python",
      "name": "python",
      "nbconvert_exporter": "python",
      "pygments_lexer": "ipython3",
      "version": "3.6.3"
    },
    "colab": {
      "provenance": []
    }
  },
  "nbformat": 4,
  "nbformat_minor": 0
}